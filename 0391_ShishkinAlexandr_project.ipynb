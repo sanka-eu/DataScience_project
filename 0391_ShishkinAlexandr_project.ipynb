{
 "cells": [
  {
   "cell_type": "markdown",
   "id": "ce090555",
   "metadata": {
    "id": "ce090555"
   },
   "source": [
    "Индивидуальный проект: **World population in the near future**\n",
    "\n",
    "Автор: **Шишкин Александр Эдуардович**\n",
    "\n",
    "Проверяющий: **ФИО**\n",
    "\n",
    "Ссылка на датасет: https://www.kaggle.com/datasets/iamsouravbanerjee/world-population-dataset"
   ]
  },
  {
   "cell_type": "markdown",
   "id": "de16fd54",
   "metadata": {
    "id": "de16fd54"
   },
   "source": [
    "### Примерный план (подстроить план под вашу задачу)\n",
    "1. Цель и задачи исследования\n",
    "2. Описание набора данных\n",
    "3. Разведочный анализ данных\n",
    "4. Генерация и селекция признаков\n",
    "5. Выбор метода/алгоритма, модели, архитектуры\n",
    "6. Генерация наборов для обучения, тестирования и валидации\n",
    "7. Выбор метрики оценки качества (MSE)\n",
    "8. Развертывание и работа модели, визуализация результатов\n",
    "9. Выводы"
   ]
  },
  {
   "cell_type": "markdown",
   "id": "51f24c93",
   "metadata": {
    "id": "51f24c93"
   },
   "source": [
    "## 1. Цель и задачи исследования"
   ]
  },
  {
   "cell_type": "markdown",
   "id": "5366ec07",
   "metadata": {
    "id": "5366ec07"
   },
   "source": [
    "\n",
    "**Цель: на основе имеющихся данных о населении планеты примерно предсказать население в ближайшем будущем**\n",
    "\n",
    "Задачи:\n",
    "- Обозначить какие данные имеются в распоряжении.\n",
    "- Установить как эти данные могут быть использованы\n",
    "- Применить методы изучения объемов данных для своего исследования\n",
    "- Привести результаты исследования"
   ]
  },
  {
   "cell_type": "markdown",
   "id": "57b965b9",
   "metadata": {
    "id": "57b965b9"
   },
   "source": [
    "## 2. Описание набора данных"
   ]
  },
  {
   "cell_type": "markdown",
   "id": "b377565b",
   "metadata": {
    "id": "b377565b"
   },
   "source": [
    "Данные взяты из: \n",
    "\n",
    "[https://www.kaggle.com/datasets/iamsouravbanerjee/world-population-dataset]\n"
   ]
  },
  {
   "cell_type": "markdown",
   "id": "05c68209",
   "metadata": {
    "id": "05c68209"
   },
   "source": [
    "### Описание данных"
   ]
  },
  {
   "cell_type": "markdown",
   "id": "5ee1cfc9",
   "metadata": {
    "id": "5ee1cfc9"
   },
   "source": [
    "Датасет представлен в виде каких файлов? Сколько их?\n",
    "Как собирались данные? Для чего — просто коротко о датасете.\n",
    "Описать объем данных.\n",
    "\n",
    "- Выборка включает 234 записей и 17 признаков (строки и столбцы соответственно).\n",
    "- Целевая переменная **\"year\" Population** — население на момент данного года(year).\n",
    "\n",
    "- Количественные переменные:\n",
    "    - **Area** — площать страны;\n",
    "    - **Density** — плотность населения(на км^2);\n",
    "    - **Growth rate** — темп роста населения;\n",
    "    - **World Population Percentage** — процент от мирового населения;\n",
    "    - **Rank** - место по населению в мире;\n",
    "- Категориальный переменные:\n",
    "    - **CCA3** — сокращенное название страны;\n",
    "    - **Country/Territory** — название страны/территории проживания;\n",
    "    - **Capital** — столица страны;\n",
    "    - **Continent** — континент местонахождения страны;"
   ]
  },
  {
   "cell_type": "code",
   "execution_count": 1,
   "id": "d9f9fec8",
   "metadata": {},
   "outputs": [],
   "source": [
    "# отключим всякие предупреждения Anaconda\n",
    "import warnings\n",
    "\n",
    "warnings.filterwarnings(\"ignore\")\n",
    "import numpy as np\n",
    "import pandas as pd\n",
    "\n",
    "pd.set_option(\"display.max.columns\", 100)\n",
    "import pylab as plt\n",
    "\n",
    "%matplotlib inline\n",
    "import seaborn as sns\n",
    "from matplotlib import pyplot as plt\n",
    "\n",
    "plt.rcParams[\"figure.figsize\"] = (10, 8)"
   ]
  },
  {
   "cell_type": "code",
   "execution_count": 2,
   "id": "0c28742a",
   "metadata": {},
   "outputs": [],
   "source": [
    "df = pd.read_csv(\"world_population.csv\")"
   ]
  },
  {
   "cell_type": "markdown",
   "id": "7527b985",
   "metadata": {},
   "source": [
    "Проверим, все ли нормально считалось – посмотрим на первые 5 строк (метод `head`)."
   ]
  },
  {
   "cell_type": "code",
   "execution_count": 3,
   "id": "56d376b7",
   "metadata": {},
   "outputs": [
    {
     "data": {
      "text/html": [
       "<div>\n",
       "<style scoped>\n",
       "    .dataframe tbody tr th:only-of-type {\n",
       "        vertical-align: middle;\n",
       "    }\n",
       "\n",
       "    .dataframe tbody tr th {\n",
       "        vertical-align: top;\n",
       "    }\n",
       "\n",
       "    .dataframe thead th {\n",
       "        text-align: right;\n",
       "    }\n",
       "</style>\n",
       "<table border=\"1\" class=\"dataframe\">\n",
       "  <thead>\n",
       "    <tr style=\"text-align: right;\">\n",
       "      <th></th>\n",
       "      <th>Rank</th>\n",
       "      <th>CCA3</th>\n",
       "      <th>Country/Territory</th>\n",
       "      <th>Capital</th>\n",
       "      <th>Continent</th>\n",
       "      <th>2022 Population</th>\n",
       "      <th>2020 Population</th>\n",
       "      <th>2015 Population</th>\n",
       "      <th>2010 Population</th>\n",
       "      <th>2000 Population</th>\n",
       "      <th>1990 Population</th>\n",
       "      <th>1980 Population</th>\n",
       "      <th>1970 Population</th>\n",
       "      <th>Area (km²)</th>\n",
       "      <th>Density (per km²)</th>\n",
       "      <th>Growth Rate</th>\n",
       "      <th>World Population Percentage</th>\n",
       "    </tr>\n",
       "  </thead>\n",
       "  <tbody>\n",
       "    <tr>\n",
       "      <th>0</th>\n",
       "      <td>36</td>\n",
       "      <td>AFG</td>\n",
       "      <td>Afghanistan</td>\n",
       "      <td>Kabul</td>\n",
       "      <td>Asia</td>\n",
       "      <td>41128771</td>\n",
       "      <td>38972230</td>\n",
       "      <td>33753499</td>\n",
       "      <td>28189672</td>\n",
       "      <td>19542982</td>\n",
       "      <td>10694796</td>\n",
       "      <td>12486631</td>\n",
       "      <td>10752971</td>\n",
       "      <td>652230</td>\n",
       "      <td>63.0587</td>\n",
       "      <td>1.0257</td>\n",
       "      <td>0.52</td>\n",
       "    </tr>\n",
       "    <tr>\n",
       "      <th>1</th>\n",
       "      <td>138</td>\n",
       "      <td>ALB</td>\n",
       "      <td>Albania</td>\n",
       "      <td>Tirana</td>\n",
       "      <td>Europe</td>\n",
       "      <td>2842321</td>\n",
       "      <td>2866849</td>\n",
       "      <td>2882481</td>\n",
       "      <td>2913399</td>\n",
       "      <td>3182021</td>\n",
       "      <td>3295066</td>\n",
       "      <td>2941651</td>\n",
       "      <td>2324731</td>\n",
       "      <td>28748</td>\n",
       "      <td>98.8702</td>\n",
       "      <td>0.9957</td>\n",
       "      <td>0.04</td>\n",
       "    </tr>\n",
       "    <tr>\n",
       "      <th>2</th>\n",
       "      <td>34</td>\n",
       "      <td>DZA</td>\n",
       "      <td>Algeria</td>\n",
       "      <td>Algiers</td>\n",
       "      <td>Africa</td>\n",
       "      <td>44903225</td>\n",
       "      <td>43451666</td>\n",
       "      <td>39543154</td>\n",
       "      <td>35856344</td>\n",
       "      <td>30774621</td>\n",
       "      <td>25518074</td>\n",
       "      <td>18739378</td>\n",
       "      <td>13795915</td>\n",
       "      <td>2381741</td>\n",
       "      <td>18.8531</td>\n",
       "      <td>1.0164</td>\n",
       "      <td>0.56</td>\n",
       "    </tr>\n",
       "    <tr>\n",
       "      <th>3</th>\n",
       "      <td>213</td>\n",
       "      <td>ASM</td>\n",
       "      <td>American Samoa</td>\n",
       "      <td>Pago Pago</td>\n",
       "      <td>Oceania</td>\n",
       "      <td>44273</td>\n",
       "      <td>46189</td>\n",
       "      <td>51368</td>\n",
       "      <td>54849</td>\n",
       "      <td>58230</td>\n",
       "      <td>47818</td>\n",
       "      <td>32886</td>\n",
       "      <td>27075</td>\n",
       "      <td>199</td>\n",
       "      <td>222.4774</td>\n",
       "      <td>0.9831</td>\n",
       "      <td>0.00</td>\n",
       "    </tr>\n",
       "    <tr>\n",
       "      <th>4</th>\n",
       "      <td>203</td>\n",
       "      <td>AND</td>\n",
       "      <td>Andorra</td>\n",
       "      <td>Andorra la Vella</td>\n",
       "      <td>Europe</td>\n",
       "      <td>79824</td>\n",
       "      <td>77700</td>\n",
       "      <td>71746</td>\n",
       "      <td>71519</td>\n",
       "      <td>66097</td>\n",
       "      <td>53569</td>\n",
       "      <td>35611</td>\n",
       "      <td>19860</td>\n",
       "      <td>468</td>\n",
       "      <td>170.5641</td>\n",
       "      <td>1.0100</td>\n",
       "      <td>0.00</td>\n",
       "    </tr>\n",
       "  </tbody>\n",
       "</table>\n",
       "</div>"
      ],
      "text/plain": [
       "   Rank CCA3 Country/Territory           Capital Continent  2022 Population  \\\n",
       "0    36  AFG       Afghanistan             Kabul      Asia         41128771   \n",
       "1   138  ALB           Albania            Tirana    Europe          2842321   \n",
       "2    34  DZA           Algeria           Algiers    Africa         44903225   \n",
       "3   213  ASM    American Samoa         Pago Pago   Oceania            44273   \n",
       "4   203  AND           Andorra  Andorra la Vella    Europe            79824   \n",
       "\n",
       "   2020 Population  2015 Population  2010 Population  2000 Population  \\\n",
       "0         38972230         33753499         28189672         19542982   \n",
       "1          2866849          2882481          2913399          3182021   \n",
       "2         43451666         39543154         35856344         30774621   \n",
       "3            46189            51368            54849            58230   \n",
       "4            77700            71746            71519            66097   \n",
       "\n",
       "   1990 Population  1980 Population  1970 Population  Area (km²)  \\\n",
       "0         10694796         12486631         10752971      652230   \n",
       "1          3295066          2941651          2324731       28748   \n",
       "2         25518074         18739378         13795915     2381741   \n",
       "3            47818            32886            27075         199   \n",
       "4            53569            35611            19860         468   \n",
       "\n",
       "   Density (per km²)  Growth Rate  World Population Percentage  \n",
       "0            63.0587       1.0257                         0.52  \n",
       "1            98.8702       0.9957                         0.04  \n",
       "2            18.8531       1.0164                         0.56  \n",
       "3           222.4774       0.9831                         0.00  \n",
       "4           170.5641       1.0100                         0.00  "
      ]
     },
     "execution_count": 3,
     "metadata": {},
     "output_type": "execute_result"
    }
   ],
   "source": [
    "df.head()"
   ]
  },
  {
   "cell_type": "markdown",
   "id": "abd9e5f5",
   "metadata": {},
   "source": [
    "**Посмотрим на размер данных и названия признаков.**"
   ]
  },
  {
   "cell_type": "code",
   "execution_count": 4,
   "id": "27151512",
   "metadata": {},
   "outputs": [
    {
     "name": "stdout",
     "output_type": "stream",
     "text": [
      "(234, 17)\n",
      "['Rank' 'CCA3' 'Country/Territory' 'Capital' 'Continent' '2022 Population'\n",
      " '2020 Population' '2015 Population' '2010 Population' '2000 Population'\n",
      " '1990 Population' '1980 Population' '1970 Population' 'Area (km²)'\n",
      " 'Density (per km²)' 'Growth Rate' 'World Population Percentage']\n"
     ]
    }
   ],
   "source": [
    "print(df.shape)\n",
    "print(df.columns.values)"
   ]
  },
  {
   "cell_type": "code",
   "execution_count": 5,
   "id": "b2dcbb5c",
   "metadata": {},
   "outputs": [
    {
     "data": {
      "text/html": [
       "<div>\n",
       "<style scoped>\n",
       "    .dataframe tbody tr th:only-of-type {\n",
       "        vertical-align: middle;\n",
       "    }\n",
       "\n",
       "    .dataframe tbody tr th {\n",
       "        vertical-align: top;\n",
       "    }\n",
       "\n",
       "    .dataframe thead th {\n",
       "        text-align: right;\n",
       "    }\n",
       "</style>\n",
       "<table border=\"1\" class=\"dataframe\">\n",
       "  <thead>\n",
       "    <tr style=\"text-align: right;\">\n",
       "      <th></th>\n",
       "      <th>Rank</th>\n",
       "      <th>CCA3</th>\n",
       "      <th>Country/Territory</th>\n",
       "      <th>Capital</th>\n",
       "      <th>Continent</th>\n",
       "      <th>2022 Population</th>\n",
       "      <th>2020 Population</th>\n",
       "      <th>2015 Population</th>\n",
       "      <th>2010 Population</th>\n",
       "      <th>2000 Population</th>\n",
       "      <th>1990 Population</th>\n",
       "      <th>1980 Population</th>\n",
       "      <th>1970 Population</th>\n",
       "      <th>Area (km²)</th>\n",
       "      <th>Density (per km²)</th>\n",
       "      <th>Growth Rate</th>\n",
       "      <th>World Population Percentage</th>\n",
       "    </tr>\n",
       "  </thead>\n",
       "  <tbody>\n",
       "    <tr>\n",
       "      <th>0</th>\n",
       "      <td>36</td>\n",
       "      <td>AFG</td>\n",
       "      <td>Afghanistan</td>\n",
       "      <td>Kabul</td>\n",
       "      <td>Asia</td>\n",
       "      <td>41128771</td>\n",
       "      <td>38972230</td>\n",
       "      <td>33753499</td>\n",
       "      <td>28189672</td>\n",
       "      <td>19542982</td>\n",
       "      <td>10694796</td>\n",
       "      <td>12486631</td>\n",
       "      <td>10752971</td>\n",
       "      <td>652230</td>\n",
       "      <td>63.0587</td>\n",
       "      <td>1.0257</td>\n",
       "      <td>0.52</td>\n",
       "    </tr>\n",
       "    <tr>\n",
       "      <th>1</th>\n",
       "      <td>138</td>\n",
       "      <td>ALB</td>\n",
       "      <td>Albania</td>\n",
       "      <td>Tirana</td>\n",
       "      <td>Europe</td>\n",
       "      <td>2842321</td>\n",
       "      <td>2866849</td>\n",
       "      <td>2882481</td>\n",
       "      <td>2913399</td>\n",
       "      <td>3182021</td>\n",
       "      <td>3295066</td>\n",
       "      <td>2941651</td>\n",
       "      <td>2324731</td>\n",
       "      <td>28748</td>\n",
       "      <td>98.8702</td>\n",
       "      <td>0.9957</td>\n",
       "      <td>0.04</td>\n",
       "    </tr>\n",
       "    <tr>\n",
       "      <th>2</th>\n",
       "      <td>34</td>\n",
       "      <td>DZA</td>\n",
       "      <td>Algeria</td>\n",
       "      <td>Algiers</td>\n",
       "      <td>Africa</td>\n",
       "      <td>44903225</td>\n",
       "      <td>43451666</td>\n",
       "      <td>39543154</td>\n",
       "      <td>35856344</td>\n",
       "      <td>30774621</td>\n",
       "      <td>25518074</td>\n",
       "      <td>18739378</td>\n",
       "      <td>13795915</td>\n",
       "      <td>2381741</td>\n",
       "      <td>18.8531</td>\n",
       "      <td>1.0164</td>\n",
       "      <td>0.56</td>\n",
       "    </tr>\n",
       "    <tr>\n",
       "      <th>3</th>\n",
       "      <td>213</td>\n",
       "      <td>ASM</td>\n",
       "      <td>American Samoa</td>\n",
       "      <td>Pago Pago</td>\n",
       "      <td>Oceania</td>\n",
       "      <td>44273</td>\n",
       "      <td>46189</td>\n",
       "      <td>51368</td>\n",
       "      <td>54849</td>\n",
       "      <td>58230</td>\n",
       "      <td>47818</td>\n",
       "      <td>32886</td>\n",
       "      <td>27075</td>\n",
       "      <td>199</td>\n",
       "      <td>222.4774</td>\n",
       "      <td>0.9831</td>\n",
       "      <td>0.00</td>\n",
       "    </tr>\n",
       "    <tr>\n",
       "      <th>4</th>\n",
       "      <td>203</td>\n",
       "      <td>AND</td>\n",
       "      <td>Andorra</td>\n",
       "      <td>Andorra la Vella</td>\n",
       "      <td>Europe</td>\n",
       "      <td>79824</td>\n",
       "      <td>77700</td>\n",
       "      <td>71746</td>\n",
       "      <td>71519</td>\n",
       "      <td>66097</td>\n",
       "      <td>53569</td>\n",
       "      <td>35611</td>\n",
       "      <td>19860</td>\n",
       "      <td>468</td>\n",
       "      <td>170.5641</td>\n",
       "      <td>1.0100</td>\n",
       "      <td>0.00</td>\n",
       "    </tr>\n",
       "    <tr>\n",
       "      <th>5</th>\n",
       "      <td>42</td>\n",
       "      <td>AGO</td>\n",
       "      <td>Angola</td>\n",
       "      <td>Luanda</td>\n",
       "      <td>Africa</td>\n",
       "      <td>35588987</td>\n",
       "      <td>33428485</td>\n",
       "      <td>28127721</td>\n",
       "      <td>23364185</td>\n",
       "      <td>16394062</td>\n",
       "      <td>11828638</td>\n",
       "      <td>8330047</td>\n",
       "      <td>6029700</td>\n",
       "      <td>1246700</td>\n",
       "      <td>28.5466</td>\n",
       "      <td>1.0315</td>\n",
       "      <td>0.45</td>\n",
       "    </tr>\n",
       "    <tr>\n",
       "      <th>6</th>\n",
       "      <td>224</td>\n",
       "      <td>AIA</td>\n",
       "      <td>Anguilla</td>\n",
       "      <td>The Valley</td>\n",
       "      <td>North America</td>\n",
       "      <td>15857</td>\n",
       "      <td>15585</td>\n",
       "      <td>14525</td>\n",
       "      <td>13172</td>\n",
       "      <td>11047</td>\n",
       "      <td>8316</td>\n",
       "      <td>6560</td>\n",
       "      <td>6283</td>\n",
       "      <td>91</td>\n",
       "      <td>174.2527</td>\n",
       "      <td>1.0066</td>\n",
       "      <td>0.00</td>\n",
       "    </tr>\n",
       "    <tr>\n",
       "      <th>7</th>\n",
       "      <td>201</td>\n",
       "      <td>ATG</td>\n",
       "      <td>Antigua and Barbuda</td>\n",
       "      <td>Saint John’s</td>\n",
       "      <td>North America</td>\n",
       "      <td>93763</td>\n",
       "      <td>92664</td>\n",
       "      <td>89941</td>\n",
       "      <td>85695</td>\n",
       "      <td>75055</td>\n",
       "      <td>63328</td>\n",
       "      <td>64888</td>\n",
       "      <td>64516</td>\n",
       "      <td>442</td>\n",
       "      <td>212.1335</td>\n",
       "      <td>1.0058</td>\n",
       "      <td>0.00</td>\n",
       "    </tr>\n",
       "    <tr>\n",
       "      <th>8</th>\n",
       "      <td>33</td>\n",
       "      <td>ARG</td>\n",
       "      <td>Argentina</td>\n",
       "      <td>Buenos Aires</td>\n",
       "      <td>South America</td>\n",
       "      <td>45510318</td>\n",
       "      <td>45036032</td>\n",
       "      <td>43257065</td>\n",
       "      <td>41100123</td>\n",
       "      <td>37070774</td>\n",
       "      <td>32637657</td>\n",
       "      <td>28024803</td>\n",
       "      <td>23842803</td>\n",
       "      <td>2780400</td>\n",
       "      <td>16.3683</td>\n",
       "      <td>1.0052</td>\n",
       "      <td>0.57</td>\n",
       "    </tr>\n",
       "    <tr>\n",
       "      <th>9</th>\n",
       "      <td>140</td>\n",
       "      <td>ARM</td>\n",
       "      <td>Armenia</td>\n",
       "      <td>Yerevan</td>\n",
       "      <td>Asia</td>\n",
       "      <td>2780469</td>\n",
       "      <td>2805608</td>\n",
       "      <td>2878595</td>\n",
       "      <td>2946293</td>\n",
       "      <td>3168523</td>\n",
       "      <td>3556539</td>\n",
       "      <td>3135123</td>\n",
       "      <td>2534377</td>\n",
       "      <td>29743</td>\n",
       "      <td>93.4831</td>\n",
       "      <td>0.9962</td>\n",
       "      <td>0.03</td>\n",
       "    </tr>\n",
       "  </tbody>\n",
       "</table>\n",
       "</div>"
      ],
      "text/plain": [
       "   Rank CCA3    Country/Territory           Capital      Continent  \\\n",
       "0    36  AFG          Afghanistan             Kabul           Asia   \n",
       "1   138  ALB              Albania            Tirana         Europe   \n",
       "2    34  DZA              Algeria           Algiers         Africa   \n",
       "3   213  ASM       American Samoa         Pago Pago        Oceania   \n",
       "4   203  AND              Andorra  Andorra la Vella         Europe   \n",
       "5    42  AGO               Angola            Luanda         Africa   \n",
       "6   224  AIA             Anguilla        The Valley  North America   \n",
       "7   201  ATG  Antigua and Barbuda      Saint John’s  North America   \n",
       "8    33  ARG            Argentina      Buenos Aires  South America   \n",
       "9   140  ARM              Armenia           Yerevan           Asia   \n",
       "\n",
       "   2022 Population  2020 Population  2015 Population  2010 Population  \\\n",
       "0         41128771         38972230         33753499         28189672   \n",
       "1          2842321          2866849          2882481          2913399   \n",
       "2         44903225         43451666         39543154         35856344   \n",
       "3            44273            46189            51368            54849   \n",
       "4            79824            77700            71746            71519   \n",
       "5         35588987         33428485         28127721         23364185   \n",
       "6            15857            15585            14525            13172   \n",
       "7            93763            92664            89941            85695   \n",
       "8         45510318         45036032         43257065         41100123   \n",
       "9          2780469          2805608          2878595          2946293   \n",
       "\n",
       "   2000 Population  1990 Population  1980 Population  1970 Population  \\\n",
       "0         19542982         10694796         12486631         10752971   \n",
       "1          3182021          3295066          2941651          2324731   \n",
       "2         30774621         25518074         18739378         13795915   \n",
       "3            58230            47818            32886            27075   \n",
       "4            66097            53569            35611            19860   \n",
       "5         16394062         11828638          8330047          6029700   \n",
       "6            11047             8316             6560             6283   \n",
       "7            75055            63328            64888            64516   \n",
       "8         37070774         32637657         28024803         23842803   \n",
       "9          3168523          3556539          3135123          2534377   \n",
       "\n",
       "   Area (km²)  Density (per km²)  Growth Rate  World Population Percentage  \n",
       "0      652230            63.0587       1.0257                         0.52  \n",
       "1       28748            98.8702       0.9957                         0.04  \n",
       "2     2381741            18.8531       1.0164                         0.56  \n",
       "3         199           222.4774       0.9831                         0.00  \n",
       "4         468           170.5641       1.0100                         0.00  \n",
       "5     1246700            28.5466       1.0315                         0.45  \n",
       "6          91           174.2527       1.0066                         0.00  \n",
       "7         442           212.1335       1.0058                         0.00  \n",
       "8     2780400            16.3683       1.0052                         0.57  \n",
       "9       29743            93.4831       0.9962                         0.03  "
      ]
     },
     "execution_count": 5,
     "metadata": {},
     "output_type": "execute_result"
    }
   ],
   "source": [
    "df.head(10)"
   ]
  },
  {
   "cell_type": "markdown",
   "id": "88c8c726",
   "metadata": {},
   "source": [
    "Метод **describe** показывает основные статистические характеристики данных по каждому признаку: число непропущенных значений, среднее, стандартное отклонение, диапазон, медиану, 0.25 и 0.75 квартили."
   ]
  },
  {
   "cell_type": "code",
   "execution_count": 6,
   "id": "21e42061",
   "metadata": {},
   "outputs": [
    {
     "data": {
      "text/html": [
       "<div>\n",
       "<style scoped>\n",
       "    .dataframe tbody tr th:only-of-type {\n",
       "        vertical-align: middle;\n",
       "    }\n",
       "\n",
       "    .dataframe tbody tr th {\n",
       "        vertical-align: top;\n",
       "    }\n",
       "\n",
       "    .dataframe thead th {\n",
       "        text-align: right;\n",
       "    }\n",
       "</style>\n",
       "<table border=\"1\" class=\"dataframe\">\n",
       "  <thead>\n",
       "    <tr style=\"text-align: right;\">\n",
       "      <th></th>\n",
       "      <th>Rank</th>\n",
       "      <th>2022 Population</th>\n",
       "      <th>2020 Population</th>\n",
       "      <th>2015 Population</th>\n",
       "      <th>2010 Population</th>\n",
       "      <th>2000 Population</th>\n",
       "      <th>1990 Population</th>\n",
       "      <th>1980 Population</th>\n",
       "      <th>1970 Population</th>\n",
       "      <th>Area (km²)</th>\n",
       "      <th>Density (per km²)</th>\n",
       "      <th>Growth Rate</th>\n",
       "      <th>World Population Percentage</th>\n",
       "    </tr>\n",
       "  </thead>\n",
       "  <tbody>\n",
       "    <tr>\n",
       "      <th>count</th>\n",
       "      <td>234.000000</td>\n",
       "      <td>2.340000e+02</td>\n",
       "      <td>2.340000e+02</td>\n",
       "      <td>2.340000e+02</td>\n",
       "      <td>2.340000e+02</td>\n",
       "      <td>2.340000e+02</td>\n",
       "      <td>2.340000e+02</td>\n",
       "      <td>2.340000e+02</td>\n",
       "      <td>2.340000e+02</td>\n",
       "      <td>2.340000e+02</td>\n",
       "      <td>234.000000</td>\n",
       "      <td>234.000000</td>\n",
       "      <td>234.000000</td>\n",
       "    </tr>\n",
       "    <tr>\n",
       "      <th>mean</th>\n",
       "      <td>117.500000</td>\n",
       "      <td>3.407441e+07</td>\n",
       "      <td>3.350107e+07</td>\n",
       "      <td>3.172996e+07</td>\n",
       "      <td>2.984524e+07</td>\n",
       "      <td>2.626947e+07</td>\n",
       "      <td>2.271022e+07</td>\n",
       "      <td>1.898462e+07</td>\n",
       "      <td>1.578691e+07</td>\n",
       "      <td>5.814494e+05</td>\n",
       "      <td>452.127044</td>\n",
       "      <td>1.009577</td>\n",
       "      <td>0.427051</td>\n",
       "    </tr>\n",
       "    <tr>\n",
       "      <th>std</th>\n",
       "      <td>67.694165</td>\n",
       "      <td>1.367664e+08</td>\n",
       "      <td>1.355899e+08</td>\n",
       "      <td>1.304050e+08</td>\n",
       "      <td>1.242185e+08</td>\n",
       "      <td>1.116982e+08</td>\n",
       "      <td>9.783217e+07</td>\n",
       "      <td>8.178519e+07</td>\n",
       "      <td>6.779509e+07</td>\n",
       "      <td>1.761841e+06</td>\n",
       "      <td>2066.121904</td>\n",
       "      <td>0.013385</td>\n",
       "      <td>1.714977</td>\n",
       "    </tr>\n",
       "    <tr>\n",
       "      <th>min</th>\n",
       "      <td>1.000000</td>\n",
       "      <td>5.100000e+02</td>\n",
       "      <td>5.200000e+02</td>\n",
       "      <td>5.640000e+02</td>\n",
       "      <td>5.960000e+02</td>\n",
       "      <td>6.510000e+02</td>\n",
       "      <td>7.000000e+02</td>\n",
       "      <td>7.330000e+02</td>\n",
       "      <td>7.520000e+02</td>\n",
       "      <td>1.000000e+00</td>\n",
       "      <td>0.026100</td>\n",
       "      <td>0.912000</td>\n",
       "      <td>0.000000</td>\n",
       "    </tr>\n",
       "    <tr>\n",
       "      <th>25%</th>\n",
       "      <td>59.250000</td>\n",
       "      <td>4.197385e+05</td>\n",
       "      <td>4.152845e+05</td>\n",
       "      <td>4.046760e+05</td>\n",
       "      <td>3.931490e+05</td>\n",
       "      <td>3.272420e+05</td>\n",
       "      <td>2.641158e+05</td>\n",
       "      <td>2.296142e+05</td>\n",
       "      <td>1.559970e+05</td>\n",
       "      <td>2.650000e+03</td>\n",
       "      <td>38.417875</td>\n",
       "      <td>1.001775</td>\n",
       "      <td>0.010000</td>\n",
       "    </tr>\n",
       "    <tr>\n",
       "      <th>50%</th>\n",
       "      <td>117.500000</td>\n",
       "      <td>5.559944e+06</td>\n",
       "      <td>5.493074e+06</td>\n",
       "      <td>5.307400e+06</td>\n",
       "      <td>4.942770e+06</td>\n",
       "      <td>4.292907e+06</td>\n",
       "      <td>3.825410e+06</td>\n",
       "      <td>3.141146e+06</td>\n",
       "      <td>2.604830e+06</td>\n",
       "      <td>8.119950e+04</td>\n",
       "      <td>95.346750</td>\n",
       "      <td>1.007900</td>\n",
       "      <td>0.070000</td>\n",
       "    </tr>\n",
       "    <tr>\n",
       "      <th>75%</th>\n",
       "      <td>175.750000</td>\n",
       "      <td>2.247650e+07</td>\n",
       "      <td>2.144798e+07</td>\n",
       "      <td>1.973085e+07</td>\n",
       "      <td>1.915957e+07</td>\n",
       "      <td>1.576230e+07</td>\n",
       "      <td>1.186923e+07</td>\n",
       "      <td>9.826054e+06</td>\n",
       "      <td>8.817329e+06</td>\n",
       "      <td>4.304258e+05</td>\n",
       "      <td>238.933250</td>\n",
       "      <td>1.016950</td>\n",
       "      <td>0.280000</td>\n",
       "    </tr>\n",
       "    <tr>\n",
       "      <th>max</th>\n",
       "      <td>234.000000</td>\n",
       "      <td>1.425887e+09</td>\n",
       "      <td>1.424930e+09</td>\n",
       "      <td>1.393715e+09</td>\n",
       "      <td>1.348191e+09</td>\n",
       "      <td>1.264099e+09</td>\n",
       "      <td>1.153704e+09</td>\n",
       "      <td>9.823725e+08</td>\n",
       "      <td>8.225344e+08</td>\n",
       "      <td>1.709824e+07</td>\n",
       "      <td>23172.266700</td>\n",
       "      <td>1.069100</td>\n",
       "      <td>17.880000</td>\n",
       "    </tr>\n",
       "  </tbody>\n",
       "</table>\n",
       "</div>"
      ],
      "text/plain": [
       "             Rank  2022 Population  2020 Population  2015 Population  \\\n",
       "count  234.000000     2.340000e+02     2.340000e+02     2.340000e+02   \n",
       "mean   117.500000     3.407441e+07     3.350107e+07     3.172996e+07   \n",
       "std     67.694165     1.367664e+08     1.355899e+08     1.304050e+08   \n",
       "min      1.000000     5.100000e+02     5.200000e+02     5.640000e+02   \n",
       "25%     59.250000     4.197385e+05     4.152845e+05     4.046760e+05   \n",
       "50%    117.500000     5.559944e+06     5.493074e+06     5.307400e+06   \n",
       "75%    175.750000     2.247650e+07     2.144798e+07     1.973085e+07   \n",
       "max    234.000000     1.425887e+09     1.424930e+09     1.393715e+09   \n",
       "\n",
       "       2010 Population  2000 Population  1990 Population  1980 Population  \\\n",
       "count     2.340000e+02     2.340000e+02     2.340000e+02     2.340000e+02   \n",
       "mean      2.984524e+07     2.626947e+07     2.271022e+07     1.898462e+07   \n",
       "std       1.242185e+08     1.116982e+08     9.783217e+07     8.178519e+07   \n",
       "min       5.960000e+02     6.510000e+02     7.000000e+02     7.330000e+02   \n",
       "25%       3.931490e+05     3.272420e+05     2.641158e+05     2.296142e+05   \n",
       "50%       4.942770e+06     4.292907e+06     3.825410e+06     3.141146e+06   \n",
       "75%       1.915957e+07     1.576230e+07     1.186923e+07     9.826054e+06   \n",
       "max       1.348191e+09     1.264099e+09     1.153704e+09     9.823725e+08   \n",
       "\n",
       "       1970 Population    Area (km²)  Density (per km²)  Growth Rate  \\\n",
       "count     2.340000e+02  2.340000e+02         234.000000   234.000000   \n",
       "mean      1.578691e+07  5.814494e+05         452.127044     1.009577   \n",
       "std       6.779509e+07  1.761841e+06        2066.121904     0.013385   \n",
       "min       7.520000e+02  1.000000e+00           0.026100     0.912000   \n",
       "25%       1.559970e+05  2.650000e+03          38.417875     1.001775   \n",
       "50%       2.604830e+06  8.119950e+04          95.346750     1.007900   \n",
       "75%       8.817329e+06  4.304258e+05         238.933250     1.016950   \n",
       "max       8.225344e+08  1.709824e+07       23172.266700     1.069100   \n",
       "\n",
       "       World Population Percentage  \n",
       "count                   234.000000  \n",
       "mean                      0.427051  \n",
       "std                       1.714977  \n",
       "min                       0.000000  \n",
       "25%                       0.010000  \n",
       "50%                       0.070000  \n",
       "75%                       0.280000  \n",
       "max                      17.880000  "
      ]
     },
     "execution_count": 6,
     "metadata": {},
     "output_type": "execute_result"
    }
   ],
   "source": [
    "df.describe()"
   ]
  },
  {
   "cell_type": "markdown",
   "id": "A1rXFIN0vQQk",
   "metadata": {
    "id": "A1rXFIN0vQQk"
   },
   "source": [
    "##  3. Разведочный анализ данных"
   ]
  },
  {
   "cell_type": "markdown",
   "id": "cd4db14a",
   "metadata": {},
   "source": [
    "**Сортировка по признаку \"2022 Population\".** (население на момент написания проекта)"
   ]
  },
  {
   "cell_type": "code",
   "execution_count": 7,
   "id": "f4217872",
   "metadata": {},
   "outputs": [
    {
     "data": {
      "text/html": [
       "<div>\n",
       "<style scoped>\n",
       "    .dataframe tbody tr th:only-of-type {\n",
       "        vertical-align: middle;\n",
       "    }\n",
       "\n",
       "    .dataframe tbody tr th {\n",
       "        vertical-align: top;\n",
       "    }\n",
       "\n",
       "    .dataframe thead th {\n",
       "        text-align: right;\n",
       "    }\n",
       "</style>\n",
       "<table border=\"1\" class=\"dataframe\">\n",
       "  <thead>\n",
       "    <tr style=\"text-align: right;\">\n",
       "      <th></th>\n",
       "      <th>Rank</th>\n",
       "      <th>CCA3</th>\n",
       "      <th>Country/Territory</th>\n",
       "      <th>Capital</th>\n",
       "      <th>Continent</th>\n",
       "      <th>2022 Population</th>\n",
       "      <th>2020 Population</th>\n",
       "      <th>2015 Population</th>\n",
       "      <th>2010 Population</th>\n",
       "      <th>2000 Population</th>\n",
       "      <th>1990 Population</th>\n",
       "      <th>1980 Population</th>\n",
       "      <th>1970 Population</th>\n",
       "      <th>Area (km²)</th>\n",
       "      <th>Density (per km²)</th>\n",
       "      <th>Growth Rate</th>\n",
       "      <th>World Population Percentage</th>\n",
       "    </tr>\n",
       "  </thead>\n",
       "  <tbody>\n",
       "    <tr>\n",
       "      <th>41</th>\n",
       "      <td>1</td>\n",
       "      <td>CHN</td>\n",
       "      <td>China</td>\n",
       "      <td>Beijing</td>\n",
       "      <td>Asia</td>\n",
       "      <td>1425887337</td>\n",
       "      <td>1424929781</td>\n",
       "      <td>1393715448</td>\n",
       "      <td>1348191368</td>\n",
       "      <td>1264099069</td>\n",
       "      <td>1153704252</td>\n",
       "      <td>982372466</td>\n",
       "      <td>822534450</td>\n",
       "      <td>9706961</td>\n",
       "      <td>146.8933</td>\n",
       "      <td>1.0000</td>\n",
       "      <td>17.88</td>\n",
       "    </tr>\n",
       "    <tr>\n",
       "      <th>92</th>\n",
       "      <td>2</td>\n",
       "      <td>IND</td>\n",
       "      <td>India</td>\n",
       "      <td>New Delhi</td>\n",
       "      <td>Asia</td>\n",
       "      <td>1417173173</td>\n",
       "      <td>1396387127</td>\n",
       "      <td>1322866505</td>\n",
       "      <td>1240613620</td>\n",
       "      <td>1059633675</td>\n",
       "      <td>870452165</td>\n",
       "      <td>696828385</td>\n",
       "      <td>557501301</td>\n",
       "      <td>3287590</td>\n",
       "      <td>431.0675</td>\n",
       "      <td>1.0068</td>\n",
       "      <td>17.77</td>\n",
       "    </tr>\n",
       "    <tr>\n",
       "      <th>221</th>\n",
       "      <td>3</td>\n",
       "      <td>USA</td>\n",
       "      <td>United States</td>\n",
       "      <td>Washington, D.C.</td>\n",
       "      <td>North America</td>\n",
       "      <td>338289857</td>\n",
       "      <td>335942003</td>\n",
       "      <td>324607776</td>\n",
       "      <td>311182845</td>\n",
       "      <td>282398554</td>\n",
       "      <td>248083732</td>\n",
       "      <td>223140018</td>\n",
       "      <td>200328340</td>\n",
       "      <td>9372610</td>\n",
       "      <td>36.0935</td>\n",
       "      <td>1.0038</td>\n",
       "      <td>4.24</td>\n",
       "    </tr>\n",
       "    <tr>\n",
       "      <th>93</th>\n",
       "      <td>4</td>\n",
       "      <td>IDN</td>\n",
       "      <td>Indonesia</td>\n",
       "      <td>Jakarta</td>\n",
       "      <td>Asia</td>\n",
       "      <td>275501339</td>\n",
       "      <td>271857970</td>\n",
       "      <td>259091970</td>\n",
       "      <td>244016173</td>\n",
       "      <td>214072421</td>\n",
       "      <td>182159874</td>\n",
       "      <td>148177096</td>\n",
       "      <td>115228394</td>\n",
       "      <td>1904569</td>\n",
       "      <td>144.6529</td>\n",
       "      <td>1.0064</td>\n",
       "      <td>3.45</td>\n",
       "    </tr>\n",
       "    <tr>\n",
       "      <th>156</th>\n",
       "      <td>5</td>\n",
       "      <td>PAK</td>\n",
       "      <td>Pakistan</td>\n",
       "      <td>Islamabad</td>\n",
       "      <td>Asia</td>\n",
       "      <td>235824862</td>\n",
       "      <td>227196741</td>\n",
       "      <td>210969298</td>\n",
       "      <td>194454498</td>\n",
       "      <td>154369924</td>\n",
       "      <td>115414069</td>\n",
       "      <td>80624057</td>\n",
       "      <td>59290872</td>\n",
       "      <td>881912</td>\n",
       "      <td>267.4018</td>\n",
       "      <td>1.0191</td>\n",
       "      <td>2.96</td>\n",
       "    </tr>\n",
       "    <tr>\n",
       "      <th>149</th>\n",
       "      <td>6</td>\n",
       "      <td>NGA</td>\n",
       "      <td>Nigeria</td>\n",
       "      <td>Abuja</td>\n",
       "      <td>Africa</td>\n",
       "      <td>218541212</td>\n",
       "      <td>208327405</td>\n",
       "      <td>183995785</td>\n",
       "      <td>160952853</td>\n",
       "      <td>122851984</td>\n",
       "      <td>95214257</td>\n",
       "      <td>72951439</td>\n",
       "      <td>55569264</td>\n",
       "      <td>923768</td>\n",
       "      <td>236.5759</td>\n",
       "      <td>1.0241</td>\n",
       "      <td>2.74</td>\n",
       "    </tr>\n",
       "    <tr>\n",
       "      <th>27</th>\n",
       "      <td>7</td>\n",
       "      <td>BRA</td>\n",
       "      <td>Brazil</td>\n",
       "      <td>Brasilia</td>\n",
       "      <td>South America</td>\n",
       "      <td>215313498</td>\n",
       "      <td>213196304</td>\n",
       "      <td>205188205</td>\n",
       "      <td>196353492</td>\n",
       "      <td>175873720</td>\n",
       "      <td>150706446</td>\n",
       "      <td>122288383</td>\n",
       "      <td>96369875</td>\n",
       "      <td>8515767</td>\n",
       "      <td>25.2841</td>\n",
       "      <td>1.0046</td>\n",
       "      <td>2.70</td>\n",
       "    </tr>\n",
       "    <tr>\n",
       "      <th>16</th>\n",
       "      <td>8</td>\n",
       "      <td>BGD</td>\n",
       "      <td>Bangladesh</td>\n",
       "      <td>Dhaka</td>\n",
       "      <td>Asia</td>\n",
       "      <td>171186372</td>\n",
       "      <td>167420951</td>\n",
       "      <td>157830000</td>\n",
       "      <td>148391139</td>\n",
       "      <td>129193327</td>\n",
       "      <td>107147651</td>\n",
       "      <td>83929765</td>\n",
       "      <td>67541860</td>\n",
       "      <td>147570</td>\n",
       "      <td>1160.0350</td>\n",
       "      <td>1.0108</td>\n",
       "      <td>2.15</td>\n",
       "    </tr>\n",
       "    <tr>\n",
       "      <th>171</th>\n",
       "      <td>9</td>\n",
       "      <td>RUS</td>\n",
       "      <td>Russia</td>\n",
       "      <td>Moscow</td>\n",
       "      <td>Europe</td>\n",
       "      <td>144713314</td>\n",
       "      <td>145617329</td>\n",
       "      <td>144668389</td>\n",
       "      <td>143242599</td>\n",
       "      <td>146844839</td>\n",
       "      <td>148005704</td>\n",
       "      <td>138257420</td>\n",
       "      <td>130093010</td>\n",
       "      <td>17098242</td>\n",
       "      <td>8.4636</td>\n",
       "      <td>0.9973</td>\n",
       "      <td>1.81</td>\n",
       "    </tr>\n",
       "    <tr>\n",
       "      <th>131</th>\n",
       "      <td>10</td>\n",
       "      <td>MEX</td>\n",
       "      <td>Mexico</td>\n",
       "      <td>Mexico City</td>\n",
       "      <td>North America</td>\n",
       "      <td>127504125</td>\n",
       "      <td>125998302</td>\n",
       "      <td>120149897</td>\n",
       "      <td>112532401</td>\n",
       "      <td>97873442</td>\n",
       "      <td>81720428</td>\n",
       "      <td>67705186</td>\n",
       "      <td>50289306</td>\n",
       "      <td>1964375</td>\n",
       "      <td>64.9082</td>\n",
       "      <td>1.0063</td>\n",
       "      <td>1.60</td>\n",
       "    </tr>\n",
       "  </tbody>\n",
       "</table>\n",
       "</div>"
      ],
      "text/plain": [
       "     Rank CCA3 Country/Territory           Capital      Continent  \\\n",
       "41      1  CHN             China           Beijing           Asia   \n",
       "92      2  IND             India         New Delhi           Asia   \n",
       "221     3  USA     United States  Washington, D.C.  North America   \n",
       "93      4  IDN         Indonesia           Jakarta           Asia   \n",
       "156     5  PAK          Pakistan         Islamabad           Asia   \n",
       "149     6  NGA           Nigeria             Abuja         Africa   \n",
       "27      7  BRA            Brazil          Brasilia  South America   \n",
       "16      8  BGD        Bangladesh             Dhaka           Asia   \n",
       "171     9  RUS            Russia            Moscow         Europe   \n",
       "131    10  MEX            Mexico       Mexico City  North America   \n",
       "\n",
       "     2022 Population  2020 Population  2015 Population  2010 Population  \\\n",
       "41        1425887337       1424929781       1393715448       1348191368   \n",
       "92        1417173173       1396387127       1322866505       1240613620   \n",
       "221        338289857        335942003        324607776        311182845   \n",
       "93         275501339        271857970        259091970        244016173   \n",
       "156        235824862        227196741        210969298        194454498   \n",
       "149        218541212        208327405        183995785        160952853   \n",
       "27         215313498        213196304        205188205        196353492   \n",
       "16         171186372        167420951        157830000        148391139   \n",
       "171        144713314        145617329        144668389        143242599   \n",
       "131        127504125        125998302        120149897        112532401   \n",
       "\n",
       "     2000 Population  1990 Population  1980 Population  1970 Population  \\\n",
       "41        1264099069       1153704252        982372466        822534450   \n",
       "92        1059633675        870452165        696828385        557501301   \n",
       "221        282398554        248083732        223140018        200328340   \n",
       "93         214072421        182159874        148177096        115228394   \n",
       "156        154369924        115414069         80624057         59290872   \n",
       "149        122851984         95214257         72951439         55569264   \n",
       "27         175873720        150706446        122288383         96369875   \n",
       "16         129193327        107147651         83929765         67541860   \n",
       "171        146844839        148005704        138257420        130093010   \n",
       "131         97873442         81720428         67705186         50289306   \n",
       "\n",
       "     Area (km²)  Density (per km²)  Growth Rate  World Population Percentage  \n",
       "41      9706961           146.8933       1.0000                        17.88  \n",
       "92      3287590           431.0675       1.0068                        17.77  \n",
       "221     9372610            36.0935       1.0038                         4.24  \n",
       "93      1904569           144.6529       1.0064                         3.45  \n",
       "156      881912           267.4018       1.0191                         2.96  \n",
       "149      923768           236.5759       1.0241                         2.74  \n",
       "27      8515767            25.2841       1.0046                         2.70  \n",
       "16       147570          1160.0350       1.0108                         2.15  \n",
       "171    17098242             8.4636       0.9973                         1.81  \n",
       "131     1964375            64.9082       1.0063                         1.60  "
      ]
     },
     "execution_count": 7,
     "metadata": {},
     "output_type": "execute_result"
    }
   ],
   "source": [
    "df.sort_values(by='2022 Population', ascending=False).head(10)"
   ]
  },
  {
   "cell_type": "markdown",
   "id": "8hu3iLkHRQpk",
   "metadata": {
    "id": "8hu3iLkHRQpk"
   },
   "source": [
    "## 4. Генерация и селекция признаков"
   ]
  },
  {
   "cell_type": "markdown",
   "id": "LiMreLEvvlKQ",
   "metadata": {
    "id": "LiMreLEvvlKQ"
   },
   "source": [
    "Попробуем сделать полезные выводы на основе представленных нам входных данных, я выберу признак \"Процент от мирового населения\"."
   ]
  },
  {
   "cell_type": "code",
   "execution_count": 8,
   "id": "86868990",
   "metadata": {},
   "outputs": [
    {
     "data": {
      "text/plain": [
       "0.00    57\n",
       "0.01    18\n",
       "0.03    11\n",
       "0.07    11\n",
       "0.02     9\n",
       "        ..\n",
       "3.45     1\n",
       "1.11     1\n",
       "0.74     1\n",
       "0.24     1\n",
       "0.20     1\n",
       "Name: World Population Percentage, Length: 70, dtype: int64"
      ]
     },
     "execution_count": 8,
     "metadata": {},
     "output_type": "execute_result"
    }
   ],
   "source": [
    "df[\"World Population Percentage\"].value_counts()"
   ]
  },
  {
   "cell_type": "code",
   "execution_count": 9,
   "id": "93205d1c",
   "metadata": {},
   "outputs": [
    {
     "data": {
      "image/png": "[encoded data removed]",
      "text/plain": [
       "<Figure size 1000x800 with 1 Axes>"
      ]
     },
     "metadata": {},
     "output_type": "display_data"
    }
   ],
   "source": [
    "df[\"World Population Percentage\"].value_counts().sort_index(0).plot(kind=\"bar\", label=\"World Population Percentage\")\n",
    "plt.legend()\n",
    "plt.title(\"Количество стран по проценту от мирового населения\");"
   ]
  },
  {
   "cell_type": "markdown",
   "id": "dcd39a1c",
   "metadata": {},
   "source": [
    "Из этого графика можно сделать вывод что маленьких стран, не занимающих и 1% от мирового населения, гораздо больше, чем крупных стран."
   ]
  },
  {
   "cell_type": "markdown",
   "id": "9631ee72",
   "metadata": {},
   "source": [
    "**Найдём население по всему миру в определенные года**"
   ]
  },
  {
   "cell_type": "markdown",
   "id": "182f42bd",
   "metadata": {},
   "source": [
    "Сделаем таблицу с годами и населением в мире на данные года"
   ]
  },
  {
   "cell_type": "code",
   "execution_count": 10,
   "id": "318f1a86",
   "metadata": {},
   "outputs": [
    {
     "data": {
      "text/plain": [
       "1970 Population    3694136661\n",
       "1980 Population    4442400371\n",
       "1990 Population    5314191665\n",
       "2000 Population    6147055703\n",
       "2010 Population    6983784998\n",
       "2015 Population    7424809761\n",
       "2020 Population    7839250603\n",
       "2022 Population    7973413042\n",
       "Name: 234, dtype: object"
      ]
     },
     "execution_count": 10,
     "metadata": {},
     "output_type": "execute_result"
    }
   ],
   "source": [
    "df[['1970 Population', '1980 Population', '1990 Population', '2000 Population', '2010 Population', '2015 Population', '2020 Population', '2022 Population']].append(df.sum(axis=0), ignore_index=True).iloc[-1].iloc[0:8]"
   ]
  },
  {
   "cell_type": "code",
   "execution_count": 11,
   "id": "79ed5b48",
   "metadata": {},
   "outputs": [
    {
     "data": {
      "text/html": [
       "<div>\n",
       "<style scoped>\n",
       "    .dataframe tbody tr th:only-of-type {\n",
       "        vertical-align: middle;\n",
       "    }\n",
       "\n",
       "    .dataframe tbody tr th {\n",
       "        vertical-align: top;\n",
       "    }\n",
       "\n",
       "    .dataframe thead th {\n",
       "        text-align: right;\n",
       "    }\n",
       "</style>\n",
       "<table border=\"1\" class=\"dataframe\">\n",
       "  <thead>\n",
       "    <tr style=\"text-align: right;\">\n",
       "      <th></th>\n",
       "      <th>year</th>\n",
       "      <th>population</th>\n",
       "    </tr>\n",
       "  </thead>\n",
       "  <tbody>\n",
       "    <tr>\n",
       "      <th>0</th>\n",
       "      <td>1970</td>\n",
       "      <td>3694136661</td>\n",
       "    </tr>\n",
       "    <tr>\n",
       "      <th>1</th>\n",
       "      <td>1980</td>\n",
       "      <td>4442400371</td>\n",
       "    </tr>\n",
       "    <tr>\n",
       "      <th>2</th>\n",
       "      <td>1990</td>\n",
       "      <td>5314191665</td>\n",
       "    </tr>\n",
       "    <tr>\n",
       "      <th>3</th>\n",
       "      <td>2000</td>\n",
       "      <td>6147055703</td>\n",
       "    </tr>\n",
       "    <tr>\n",
       "      <th>4</th>\n",
       "      <td>2010</td>\n",
       "      <td>6983784998</td>\n",
       "    </tr>\n",
       "    <tr>\n",
       "      <th>5</th>\n",
       "      <td>2015</td>\n",
       "      <td>7424809761</td>\n",
       "    </tr>\n",
       "    <tr>\n",
       "      <th>6</th>\n",
       "      <td>2020</td>\n",
       "      <td>7839250603</td>\n",
       "    </tr>\n",
       "    <tr>\n",
       "      <th>7</th>\n",
       "      <td>2022</td>\n",
       "      <td>7973413042</td>\n",
       "    </tr>\n",
       "  </tbody>\n",
       "</table>\n",
       "</div>"
      ],
      "text/plain": [
       "   year  population\n",
       "0  1970  3694136661\n",
       "1  1980  4442400371\n",
       "2  1990  5314191665\n",
       "3  2000  6147055703\n",
       "4  2010  6983784998\n",
       "5  2015  7424809761\n",
       "6  2020  7839250603\n",
       "7  2022  7973413042"
      ]
     },
     "execution_count": 11,
     "metadata": {},
     "output_type": "execute_result"
    }
   ],
   "source": [
    "population = pd.DataFrame([[1970, 3694136661], [1980, 4442400371], [1990, 5314191665], [2000, 6147055703], [2010, 6983784998], [2015, 7424809761], [2020, 7839250603], [2022, 7973413042]], columns=['year', 'population'])\n",
    "population.head(10)"
   ]
  },
  {
   "cell_type": "markdown",
   "id": "lxHOND4CSANI",
   "metadata": {
    "id": "lxHOND4CSANI"
   },
   "source": [
    "## 5. Выбор метода/алгоритма, модели, архитектуры\n"
   ]
  },
  {
   "cell_type": "markdown",
   "id": "b561e529",
   "metadata": {},
   "source": [
    "Построим график, становиться видно, что для решения задачи подойдёт линейная регрессия "
   ]
  },
  {
   "cell_type": "code",
   "execution_count": 12,
   "id": "298970f9",
   "metadata": {},
   "outputs": [
    {
     "data": {
      "image/png": "[encoded data removed]",
      "text/plain": [
       "<Figure size 1000x800 with 1 Axes>"
      ]
     },
     "metadata": {},
     "output_type": "display_data"
    }
   ],
   "source": [
    "population.plot(x='year', y='population', style='o') \n",
    "plt.title('Years vs Population') \n",
    "plt.xlabel('Years') \n",
    "plt.ylabel('Population') \n",
    "plt.show()"
   ]
  },
  {
   "cell_type": "markdown",
   "id": "RbtxGcQvX8Ey",
   "metadata": {
    "id": "RbtxGcQvX8Ey"
   },
   "source": [
    "## 6. Генерация наборов для обучения, тестирования и валидации\n"
   ]
  },
  {
   "cell_type": "code",
   "execution_count": 13,
   "id": "ff87116c",
   "metadata": {},
   "outputs": [
    {
     "name": "stdout",
     "output_type": "stream",
     "text": [
      "Коэффициенты b0 и k в уравнении линейной регрессии y=kx + b0\n",
      "b0 =  -160192226618.0601  k =  83172373.11364178\n"
     ]
    }
   ],
   "source": [
    "X = population.iloc[:, :-1].values \n",
    "y = population.iloc[:, 1].values\n",
    "\n",
    "from sklearn.model_selection import train_test_split \n",
    "X_train, X_test, y_train, y_test = train_test_split(X, y, test_size=0.2, random_state=0)\n",
    "\n",
    "from sklearn.linear_model import LinearRegression \n",
    "regressor = LinearRegression() \n",
    "model = regressor.fit(X_train, y_train)\n",
    "\n",
    "b_sq = model.intercept_\n",
    "k_sq = model.coef_\n",
    "print(\"Коэффициенты b0 и k в уравнении линейной регрессии y=kx + b0\")\n",
    "print(\"b0 = \", b_sq, \" k = \", k_sq[0])"
   ]
  },
  {
   "cell_type": "markdown",
   "id": "91c12f50",
   "metadata": {},
   "source": [
    "Пример кросс-валидации."
   ]
  },
  {
   "cell_type": "code",
   "execution_count": 14,
   "id": "22b62801",
   "metadata": {},
   "outputs": [
    {
     "name": "stdout",
     "output_type": "stream",
     "text": [
      "train: [5314191665 6147055703 7424809761 7839250603], test: [3694136661 4442400371]\n",
      "train: [3694136661 4442400371 7424809761 7839250603], test: [5314191665 6147055703]\n",
      "train: [3694136661 4442400371 5314191665 6147055703], test: [7424809761 7839250603]\n"
     ]
    }
   ],
   "source": [
    "import numpy\n",
    "from sklearn.model_selection import KFold\n",
    "\n",
    "# датасет\n",
    "data = numpy.array([3694136661, 4442400371, 5314191665, 6147055703, 7424809761, 7839250603])\n",
    "\n",
    "# подготовьте кросс валидацию\n",
    "kfold = KFold(n_splits=3)\n",
    "\n",
    "# перечисление выборок датасета\n",
    "for train, test in kfold.split(data):\n",
    "    print('train: %s, test: %s' % (data[train], data[test]))"
   ]
  },
  {
   "cell_type": "markdown",
   "id": "fdea3b23",
   "metadata": {},
   "source": [
    "## Вот как будет выглядеть этот график"
   ]
  },
  {
   "cell_type": "code",
   "execution_count": 15,
   "id": "d20d2c60",
   "metadata": {},
   "outputs": [
    {
     "data": {
      "image/png": "[encoded data removed]",
      "text/plain": [
       "<Figure size 1000x800 with 1 Axes>"
      ]
     },
     "metadata": {},
     "output_type": "display_data"
    }
   ],
   "source": [
    "def f(t):\n",
    "    return k_sq[0]*t + b_sq\n",
    "\n",
    "t1 = np.arange(0.0, 3000.0, 1)\n",
    "\n",
    "plt.figure()\n",
    "plt.plot(f(t1))\n",
    "plt.ylim(0, 117973413042)\n",
    "plt.xlim(1500, 3000)\n",
    "plt.show()"
   ]
  },
  {
   "cell_type": "markdown",
   "id": "735eb201",
   "metadata": {},
   "source": [
    "Плохо то, что уже примерно на 1900 году наша модель показывает что население равно нулю, что конечно же неправда, но, по большому счёту на это всё равно, ведь наша задача предсказать население в будущем."
   ]
  },
  {
   "cell_type": "markdown",
   "id": "3df7759e",
   "metadata": {},
   "source": [
    "## 7. Выбор метрики оценки качества (MSE)\n"
   ]
  },
  {
   "cell_type": "markdown",
   "id": "b9b4a23d",
   "metadata": {},
   "source": [
    "Выберем метрику MSE, так как возведение в квадрат наилучшим образом оценить качество работы нашей модели."
   ]
  },
  {
   "cell_type": "code",
   "execution_count": 16,
   "id": "716fc66a",
   "metadata": {},
   "outputs": [],
   "source": [
    "y_pred = model.predict(X_test)"
   ]
  },
  {
   "cell_type": "markdown",
   "id": "72a12554",
   "metadata": {},
   "source": [
    "Перед оценкой стоит экспонировать тестовые и пересказанные значения, так как использовать MSE для логарифмов будет нецелесообразно, поскольку трудно будет оценить полученные результаты."
   ]
  },
  {
   "cell_type": "code",
   "execution_count": 17,
   "id": "6e0116a4",
   "metadata": {},
   "outputs": [
    {
     "name": "stdout",
     "output_type": "stream",
     "text": [
      "mse: 292869234891414.750\n"
     ]
    }
   ],
   "source": [
    "from sklearn.metrics import mean_squared_error\n",
    "from sklearn.metrics import mean_absolute_error\n",
    "\n",
    "mse = mean_squared_error(y_test, y_pred)\n",
    "print('mse: %.3f' % (mse))"
   ]
  },
  {
   "cell_type": "markdown",
   "id": "8c56abc7",
   "metadata": {},
   "source": [
    "Число достаточно большое, но не нужно пугаться, ведь и мы не с маленькими числами проводим здесь вычисления, население земли не может быть маленьким в 20-21 столетии, поэтому найдём корень(так как находили MSE) и поймём что полученное значение очень даже устраивает."
   ]
  },
  {
   "cell_type": "code",
   "execution_count": 18,
   "id": "290bb3c3",
   "metadata": {},
   "outputs": [
    {
     "name": "stdout",
     "output_type": "stream",
     "text": [
      "mse^(1/2) =  17113422.652742926\n"
     ]
    }
   ],
   "source": [
    "import math\n",
    "print(\"mse^(1/2) = \", math.sqrt(mse))"
   ]
  },
  {
   "cell_type": "markdown",
   "id": "ca065f27",
   "metadata": {},
   "source": [
    "Таким образом, население планеты отклоняется всего лишь на население нескольких столиц мира."
   ]
  },
  {
   "cell_type": "markdown",
   "id": "VgxHtJo0X9Ki",
   "metadata": {
    "id": "VgxHtJo0X9Ki"
   },
   "source": [
    "## 8. Развертывание и работа модели, визуализация результатов.\n",
    "\n",
    "\n"
   ]
  },
  {
   "cell_type": "markdown",
   "id": "a73b2a2d",
   "metadata": {},
   "source": [
    "Теперь мы можем подставить любое число в получившееся уравнение и получить примерное значение населения хоть для десятой доли какого-либо года."
   ]
  },
  {
   "cell_type": "code",
   "execution_count": 19,
   "id": "9d8d6921",
   "metadata": {},
   "outputs": [
    {
     "name": "stdout",
     "output_type": "stream",
     "text": [
      "Введите год для которого необходимо рассчитать население земли: \n",
      "2030\n",
      "Население земли на  2030  год:  8647690802.63272\n"
     ]
    }
   ],
   "source": [
    "print(\"Введите год для которого необходимо рассчитать население земли: \")\n",
    "x = int(input())\n",
    "print(\"Население земли на \", x, \" год: \", k_sq[0]*x + b_sq)"
   ]
  },
  {
   "cell_type": "markdown",
   "id": "GErABncWSV-B",
   "metadata": {
    "id": "GErABncWSV-B"
   },
   "source": [
    "## 9. Выводы"
   ]
  },
  {
   "cell_type": "markdown",
   "id": "N-Nx-I_i2CyZ",
   "metadata": {
    "id": "N-Nx-I_i2CyZ"
   },
   "source": [
    "В процессе выполнения данной работы были изучены и использованы данные за последнее столетие о населении земного шара. С помощью линейной регрессии получено уравнение населения земли, зависящее от года, в котором нужно найти население. Очевидно, что для более точного предсказания таких данных необходимо гораздо больше, но точность выполненного исследования можно будет проверить экспериментальным путём уже очень скоро)\n",
    "\n",
    "Были применены способы работы с большими объемами данных и библиотеки для машинного обучения на языке python. Отточены навыки изучения и анализа большого объёма информации."
   ]
  }
 ],
 "metadata": {
  "colab": {
   "collapsed_sections": [
    "51f24c93",
    "57b965b9",
    "GErABncWSV-B"
   ],
   "provenance": []
  },
  "kernelspec": {
   "display_name": "Python 3 (ipykernel)",
   "language": "python",
   "name": "python3"
  },
  "language_info": {
   "codemirror_mode": {
    "name": "ipython",
    "version": 3
   },
   "file_extension": ".py",
   "mimetype": "text/x-python",
   "name": "python",
   "nbconvert_exporter": "python",
   "pygments_lexer": "ipython3",
   "version": "3.10.7"
  },
  "toc": {
   "base_numbering": 1,
   "nav_menu": {},
   "number_sections": true,
   "sideBar": true,
   "skip_h1_title": false,
   "title_cell": "Table of Contents",
   "title_sidebar": "Contents",
   "toc_cell": false,
   "toc_position": {},
   "toc_section_display": true,
   "toc_window_display": true
  }
 },
 "nbformat": 4,
 "nbformat_minor": 5
}
